{
 "cells": [
  {
   "cell_type": "markdown",
   "id": "14715b8d",
   "metadata": {},
   "source": [
    "## 필요한 라이브러리 import"
   ]
  },
  {
   "cell_type": "code",
   "execution_count": null,
   "id": "57d7b192",
   "metadata": {},
   "outputs": [],
   "source": [
    "from pykospacing import Spacing\n",
    "import pandas as pd\n",
    "from konlpy.tag import Okt\n",
    "from hanspell import spell_checker\n",
    "import re\n",
    "\n",
    "spacing = Spacing()\n",
    "okt = Okt()"
   ]
  },
  {
   "cell_type": "markdown",
   "id": "2429528e",
   "metadata": {},
   "source": [
    "## data.csv 파일 읽기"
   ]
  },
  {
   "cell_type": "code",
   "execution_count": 2,
   "id": "c858e9bc",
   "metadata": {},
   "outputs": [],
   "source": [
    "df = pd.read_csv('pre-data/data.csv',encoding='cp949',\n",
    "                 low_memory=False)\n",
    "df = df[['title', '개월']]"
   ]
  },
  {
   "cell_type": "code",
   "execution_count": null,
   "id": "f50f3d4d",
   "metadata": {},
   "outputs": [],
   "source": [
    "df"
   ]
  },
  {
   "cell_type": "markdown",
   "id": "1ae253bd",
   "metadata": {},
   "source": [
    "## 불용어(stopwords) 제거"
   ]
  },
  {
   "cell_type": "markdown",
   "id": "9cb91779",
   "metadata": {},
   "source": [
    "### 불용어 불러오기"
   ]
  },
  {
   "cell_type": "code",
   "execution_count": null,
   "id": "18e22198",
   "metadata": {},
   "outputs": [],
   "source": [
    "stopwords_df=pd.read_csv('pre-data/stopwords.csv', encoding='utf-8',\n",
    "                 low_memory=False)\n",
    "stopwords_df"
   ]
  },
  {
   "cell_type": "markdown",
   "id": "e082cbd4",
   "metadata": {},
   "source": [
    "### 불용어 제거 (nuring)"
   ]
  },
  {
   "cell_type": "code",
   "execution_count": null,
   "id": "b02dd46e",
   "metadata": {},
   "outputs": [],
   "source": [
    "# nursing\n",
    "len_df = len(df)\n",
    "for i in range(len_df):\n",
    "    for j in range(len(stopwords_df['nursing'])):\n",
    "        df['title'][i] = re.sub(\" \"+stopwords_df.loc[j][\"nursing\"]+\" \", \" \", df['title'][i])\n",
    "    print(f\"{i} of {len_df}\")"
   ]
  },
  {
   "cell_type": "code",
   "execution_count": null,
   "id": "11f48afa",
   "metadata": {},
   "outputs": [],
   "source": [
    "df"
   ]
  },
  {
   "cell_type": "markdown",
   "id": "5fda23f2",
   "metadata": {},
   "source": [
    "### 불용어(nursing) 제거한 df를 저장"
   ]
  },
  {
   "cell_type": "code",
   "execution_count": null,
   "id": "7f93348e",
   "metadata": {},
   "outputs": [],
   "source": [
    "df.to_csv(\"post-data/nursing_stopwords_removed.csv\", mode='w')\n",
    "df = pd.read_csv('post-data/nursing_stopwords_removed.csv',low_memory=False)\n"
   ]
  },
  {
   "cell_type": "markdown",
   "id": "608e2b45",
   "metadata": {},
   "source": [
    "## 동의어처리 (before spell check)"
   ]
  },
  {
   "cell_type": "code",
   "execution_count": null,
   "id": "b255eaac",
   "metadata": {},
   "outputs": [],
   "source": [
    "syn_df = pd.read_csv('pre-data/synonym.csv')\n",
    "syn_df"
   ]
  },
  {
   "cell_type": "code",
   "execution_count": 61,
   "id": "1fdbee64",
   "metadata": {},
   "outputs": [],
   "source": [
    "for idx in range(len(syn_df['전문가 의미'])):\n",
    "    if syn_df['전문가 의미'][idx]==\"삭제\":\n",
    "        syn_df['synonym'][idx] = \"\" \n",
    "\n",
    "# synonym 행 중 값이 없는 행은 삭제\n",
    "syn_df = syn_df[syn_df['synonym'].notna()] \n",
    "syn_df = syn_df[['word', 'synonym']] \n",
    "\n",
    "# index 재구성\n",
    "len_syn = len(syn_df['synonym'])\n",
    "syn_index = [i for i in range(len_syn)]\n",
    "syn_df = syn_df.set_index(pd.Index(syn_index))  "
   ]
  },
  {
   "cell_type": "code",
   "execution_count": null,
   "id": "b71cac9e",
   "metadata": {},
   "outputs": [],
   "source": [
    "syn_df"
   ]
  },
  {
   "cell_type": "code",
   "execution_count": null,
   "id": "61083748",
   "metadata": {},
   "outputs": [],
   "source": [
    "len_df = len(df)\n",
    "for i in range(len_df):\n",
    "    for j in range(len(syn_df['synonym'])):\n",
    "        df['title'][i] = re.sub(\" \"+syn_df.loc[j][\"word\"]+\" \", \" \"+syn_df.loc[j][\"synonym\"]+\" \", df['title'][i])\n",
    "    print(f\"{i} of {len_df}\")\n",
    "\n",
    "    "
   ]
  },
  {
   "cell_type": "code",
   "execution_count": null,
   "id": "04beec94",
   "metadata": {},
   "outputs": [],
   "source": [
    "df"
   ]
  },
  {
   "cell_type": "code",
   "execution_count": null,
   "id": "114ff540",
   "metadata": {},
   "outputs": [],
   "source": [
    "for i in range(len_df):\n",
    "    print(f\"{i} of {len_df}\")\n",
    "    df['title'][i] = re.sub(\"삭제\", \"\", df['title'][i])\n"
   ]
  },
  {
   "cell_type": "code",
   "execution_count": null,
   "id": "cf5f8ae0",
   "metadata": {},
   "outputs": [],
   "source": [
    "df"
   ]
  },
  {
   "cell_type": "markdown",
   "id": "3baea358",
   "metadata": {},
   "source": [
    "### 동의어처리한 df 저장"
   ]
  },
  {
   "cell_type": "code",
   "execution_count": 19,
   "id": "2d3d16cc",
   "metadata": {},
   "outputs": [],
   "source": [
    "df.to_csv(\"post-data/synyonym_checked_before_spell_chcking.csv\", mode='w')"
   ]
  },
  {
   "cell_type": "markdown",
   "id": "1ad98f97",
   "metadata": {},
   "source": [
    "## spell checking"
   ]
  },
  {
   "cell_type": "code",
   "execution_count": null,
   "id": "bd7f705d",
   "metadata": {
    "scrolled": true
   },
   "outputs": [],
   "source": [
    "spell_list = []\n",
    "\n",
    "for i in range(len(df)):\n",
    "# for i in range(10):\n",
    "    spell_list.append(spacing(df['title'][i]))\n",
    "    print(i, spell_list[i])\n",
    "\n",
    "df['spell'] = spell_list\n",
    "\n",
    "df.to_csv(\"post-data/spell_checked.csv\", mode='w')\n"
   ]
  },
  {
   "cell_type": "markdown",
   "id": "abec764c",
   "metadata": {},
   "source": [
    "## remove stopwords(korean) after spell checking"
   ]
  },
  {
   "cell_type": "code",
   "execution_count": null,
   "id": "650ca693",
   "metadata": {},
   "outputs": [],
   "source": [
    "kr_stopwords_df=stopwords_df.drop(['nursing'], axis=1).dropna()\n",
    "kr_stopwords_df"
   ]
  },
  {
   "cell_type": "code",
   "execution_count": null,
   "id": "7316aae4",
   "metadata": {},
   "outputs": [],
   "source": [
    "# korean\n",
    "len_df = len(df) \n",
    "for i in range(len_df):\n",
    "    for j in range(len(kr_stopwords_df['korean'])):\n",
    "        df['title'][i] = re.sub(\" \"+kr_stopwords_df.loc[j][\"korean\"]+\" \", \" \", df['title'][i])\n",
    "    print(f\"{i} of {len_df}\")"
   ]
  },
  {
   "cell_type": "code",
   "execution_count": 31,
   "id": "2c50e39a",
   "metadata": {},
   "outputs": [],
   "source": [
    "df.to_csv(\"post-data/korean_stopwords_removed.csv\", mode='w')"
   ]
  },
  {
   "cell_type": "markdown",
   "id": "f7705e3c",
   "metadata": {},
   "source": [
    "## 동의어처리 (after spell check)"
   ]
  },
  {
   "cell_type": "code",
   "execution_count": null,
   "id": "c2845167",
   "metadata": {},
   "outputs": [],
   "source": [
    "len_df = len(df)\n",
    "for i in range(len_df):\n",
    "    for j in range(len(syn_df['synonym'])):\n",
    "        df['title'][i] = re.sub(syn_df.loc[j][\"word\"], syn_df.loc[j][\"synonym\"], df['title'][i])\n",
    "    print(f\"{i} of {len_df}\")"
   ]
  },
  {
   "cell_type": "code",
   "execution_count": null,
   "id": "7348e7a7",
   "metadata": {},
   "outputs": [],
   "source": [
    "for i in range(len_df):\n",
    "    print(f\"{i} of {len_df}\")\n",
    "    df['title'][i] = re.sub(\"삭제\", \"\", df['title'][i])"
   ]
  },
  {
   "cell_type": "markdown",
   "id": "ede0efb2",
   "metadata": {},
   "source": [
    "### 동의어처리한 df 저장"
   ]
  },
  {
   "cell_type": "code",
   "execution_count": 34,
   "id": "31a5e2bb",
   "metadata": {},
   "outputs": [],
   "source": [
    "df.to_csv(\"post-data/synyonym_checked_after_spell_chcking.csv\", mode='w')"
   ]
  },
  {
   "cell_type": "markdown",
   "id": "b7258424",
   "metadata": {},
   "source": [
    "## tokenization"
   ]
  },
  {
   "cell_type": "code",
   "execution_count": null,
   "id": "e70cdad4",
   "metadata": {},
   "outputs": [],
   "source": [
    "df"
   ]
  },
  {
   "cell_type": "code",
   "execution_count": null,
   "id": "b376dd1f",
   "metadata": {},
   "outputs": [],
   "source": [
    "token_list=[]\n",
    "\n",
    "\n",
    "def title_tokenization(df, idx):\n",
    "    # return df['title'].replace([df['title'][idx]], \" \".join(\n",
    "    #     okt.nouns(df['title'][idx])))\n",
    "\n",
    "    return \" \".join(okt.nouns(df['spell'][idx]))\n",
    "\n",
    "for i in range(len(df)):\n",
    "    token_list.append(title_tokenization(df, i))\n",
    "    print(i, token_list[i])\n",
    "\n",
    "df['token'] = token_list\n",
    "\n",
    "df.to_csv(\"post-data/tokeniztioned.csv\", mode='w')"
   ]
  },
  {
   "cell_type": "code",
   "execution_count": null,
   "id": "1e57ad69",
   "metadata": {},
   "outputs": [],
   "source": [
    "df"
   ]
  },
  {
   "cell_type": "markdown",
   "id": "d17a6880",
   "metadata": {},
   "source": [
    "## making matrix"
   ]
  },
  {
   "cell_type": "code",
   "execution_count": null,
   "id": "54c6ad08",
   "metadata": {},
   "outputs": [],
   "source": [
    "token_list = []\n",
    "index_list = []\n",
    "\n",
    "for i in range(len(df)):\n",
    "    index_list.append(i)\n",
    "    try:\n",
    "        token_list += df['token'][i].split()\n",
    "        print(f\"{i} of {len(df['token'])}\")\n",
    "    except AttributeError:  # token이 없는 경우 예외처리\n",
    "        print(f\"ERROR!\\n{i} : {df['token'][i]}\")\n",
    "\n",
    "print(f\"중복 제거 전 : {len(token_list)}개\")\n",
    "token_list = list(set(token_list))\n",
    "print(f\"중복 제거 후 : {len(token_list)}개\")\n"
   ]
  },
  {
   "cell_type": "code",
   "execution_count": 39,
   "id": "877096ef",
   "metadata": {},
   "outputs": [
    {
     "name": "stdout",
     "output_type": "stream",
     "text": [
      "making matrix_df!\n",
      "nan to 0\n"
     ]
    }
   ],
   "source": [
    "print(\"making matrix_df!\")\n",
    "matrix_df = pd.DataFrame(index=index_list, columns=token_list)\n",
    "\n",
    "print(\"nan to 0\")\n",
    "matrix_df = matrix_df.fillna(0)"
   ]
  },
  {
   "cell_type": "code",
   "execution_count": null,
   "id": "a71119cf",
   "metadata": {},
   "outputs": [],
   "source": [
    "matrix_df"
   ]
  },
  {
   "cell_type": "code",
   "execution_count": null,
   "id": "e55167de",
   "metadata": {},
   "outputs": [],
   "source": [
    "for col in range(len(matrix_df.columns)):\n",
    "    print(f\"{col} of {len(matrix_df.columns)} : {matrix_df.columns[col]}\")\n",
    "    for idx in matrix_df.index:\n",
    "        try:\n",
    "            cnt = df['token'][idx].split().count(matrix_df.columns[col])\n",
    "            print(matrix_df[matrix_df.columns[col]][idx], cnt)\n",
    "            matrix_df[matrix_df.columns[col]][idx] = cnt\n",
    "            \n",
    "        except AttributeError:  # token이 없는 경우 예외처리\n",
    "            pass\n",
    "\n",
    "print(\"saving matrix_df!\")\n",
    "matrix_df.to_csv(\"post-data/matrix.csv\", mode='w')"
   ]
  },
  {
   "cell_type": "code",
   "execution_count": null,
   "id": "5fe8c425",
   "metadata": {},
   "outputs": [],
   "source": [
    "matrix_df = pd.read_csv('data/matrix.csv',low_memory=False)\n",
    "matrix_df.drop(['Unnamed: 0'], axis=1, inplace=True)\n",
    "matrix_df"
   ]
  },
  {
   "cell_type": "code",
   "execution_count": null,
   "id": "f30e0282",
   "metadata": {},
   "outputs": [],
   "source": [
    "matrix_df = matrix_df.transpose()\n",
    "matrix_df"
   ]
  },
  {
   "cell_type": "code",
   "execution_count": null,
   "id": "4853d37b",
   "metadata": {},
   "outputs": [],
   "source": [
    "matrix_df['freq'] = matrix_df.sum(axis=1)\n",
    "matrix_df = matrix_df[['freq']]\n",
    "matrix_df"
   ]
  },
  {
   "cell_type": "code",
   "execution_count": null,
   "id": "b104715b",
   "metadata": {},
   "outputs": [],
   "source": [
    "freq_df = matrix_df.sort_values('freq' ,ascending=False)\n",
    "freq_df\n",
    "\n",
    "print(\"saving freq_df!\")\n",
    "matrix_df.to_csv(\"post-data/freq.csv\", mode='w', encoding='euc-kr')"
   ]
  },
  {
   "cell_type": "code",
   "execution_count": null,
   "id": "c7d5d623",
   "metadata": {},
   "outputs": [],
   "source": [
    "freq_df"
   ]
  },
  {
   "cell_type": "code",
   "execution_count": null,
   "id": "f1e3c4be",
   "metadata": {},
   "outputs": [],
   "source": []
  }
 ],
 "metadata": {
  "kernelspec": {
   "display_name": "Python 3 (ipykernel)",
   "language": "python",
   "name": "python3"
  },
  "language_info": {
   "codemirror_mode": {
    "name": "ipython",
    "version": 3
   },
   "file_extension": ".py",
   "mimetype": "text/x-python",
   "name": "python",
   "nbconvert_exporter": "python",
   "pygments_lexer": "ipython3",
   "version": "3.8.10"
  }
 },
 "nbformat": 4,
 "nbformat_minor": 5
}
