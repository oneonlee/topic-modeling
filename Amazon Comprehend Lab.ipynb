{
 "cells": [
  {
   "cell_type": "code",
   "execution_count": 1,
   "id": "dd249290",
   "metadata": {},
   "outputs": [],
   "source": [
    "import boto3\n",
    "\n",
    "client = boto3.client('comprehend')"
   ]
  },
  {
   "cell_type": "code",
   "execution_count": 2,
   "id": "77799ade",
   "metadata": {},
   "outputs": [],
   "source": [
    "import sagemaker                                  # Amazon SageMaker's Python SDK provides many helper functions\n",
    "from sagemaker import get_execution_role          # Define IAM role\n"
   ]
  },
  {
   "cell_type": "code",
   "execution_count": 3,
   "id": "5b25ecc3",
   "metadata": {},
   "outputs": [],
   "source": [
    "sagemaker_session = sagemaker.Session()\n",
    "s3 = boto3.resource('s3')\n",
    "role = get_execution_role()\n",
    "\n",
    "bucket = 'sagemaker-workshop-ldg'"
   ]
  },
  {
   "cell_type": "code",
   "execution_count": 16,
   "id": "272cf6ad",
   "metadata": {},
   "outputs": [],
   "source": [
    "texts = '포만감주는 분유추천해주세요~지금 넘 금세배고파해요ㅜㅜ 현재 37일차 아기고, 4.5kg정도 나가고 거의 완분아기입니다.뢰벤짠분유를 먹고있는데 110먹는데 3시간 텀 유지가안되요ㅜㅜ2시간만되도 배고파해서, 공갈도써보고 하는데 2시간반 지나면공갈도 승질내면서 싫어해요ㅜㅜ 소아과 선생님 모두 수유텀지켜서 뱃골 늘려야한대서 3시간 버티려는데 애기는 넘 울어서목도쉬고 잠도 잘못자는거같아요ㅜㅜ 2시간~2시간반만에 주면80먹고 또 더 금세 배고파하니 달라는대로주면 1000넘기도해요ㅠ뢰벤짠 쉬도 흠뻑싸고 트림도 먹자마자 거의 바로하고 응가도 황금변 하루2번 이상 잘싸서 너무좋은데,포만감이없는거같아요ㅜㅜ분유를 바꾸는게 좋을지, 시간이 좀 지나서 수유량이늘면텀이 잡힐까요 지금은110 이상 더먹진 또 않아요ㅜㅜ너무 고민되네요~'"
   ]
  },
  {
   "cell_type": "code",
   "execution_count": 17,
   "id": "d54512f1",
   "metadata": {},
   "outputs": [],
   "source": [
    "response = client.detect_key_phrases(\n",
    "    Text=texts,\n",
    "    LanguageCode='ko'\n",
    ")"
   ]
  },
  {
   "cell_type": "code",
   "execution_count": 18,
   "id": "9ddd71e0",
   "metadata": {},
   "outputs": [
    {
     "name": "stdout",
     "output_type": "stream",
     "text": [
      "{'KeyPhrases': [{'Score': 0.994705855846405, 'Text': '포만감주', 'BeginOffset': 0, 'EndOffset': 4}, {'Score': 0.9406095743179321, 'Text': '분유', 'BeginOffset': 6, 'EndOffset': 8}, {'Score': 0.6247177124023438, 'Text': '요', 'BeginOffset': 26, 'EndOffset': 27}, {'Score': 0.6834474205970764, 'Text': '37일차', 'BeginOffset': 33, 'EndOffset': 37}, {'Score': 0.9032132029533386, 'Text': '아기', 'BeginOffset': 38, 'EndOffset': 40}, {'Score': 0.9506351947784424, 'Text': '4.5kg', 'BeginOffset': 43, 'EndOffset': 48}, {'Score': 0.8820844292640686, 'Text': '완분', 'BeginOffset': 58, 'EndOffset': 60}, {'Score': 0.8226183652877808, 'Text': '아기', 'BeginOffset': 60, 'EndOffset': 62}, {'Score': 0.9991649389266968, 'Text': '뢰벤짠분유', 'BeginOffset': 66, 'EndOffset': 71}, {'Score': 0.9903752207756042, 'Text': '110', 'BeginOffset': 79, 'EndOffset': 82}, {'Score': 0.9907673001289368, 'Text': '데', 'BeginOffset': 84, 'EndOffset': 85}, {'Score': 0.9335976243019104, 'Text': '3시간 텀 유지', 'BeginOffset': 86, 'EndOffset': 94}, {'Score': 0.8604604005813599, 'Text': '요', 'BeginOffset': 97, 'EndOffset': 98}, {'Score': 0.973846971988678, 'Text': '2시간', 'BeginOffset': 100, 'EndOffset': 103}, {'Score': 0.993513286113739, 'Text': '공갈', 'BeginOffset': 114, 'EndOffset': 116}, {'Score': 0.9762002825737, 'Text': '데', 'BeginOffset': 123, 'EndOffset': 124}, {'Score': 0.9759324193000793, 'Text': '2시간반', 'BeginOffset': 125, 'EndOffset': 129}, {'Score': 0.9910600781440735, 'Text': '공갈', 'BeginOffset': 133, 'EndOffset': 135}, {'Score': 0.9387746453285217, 'Text': '승질', 'BeginOffset': 137, 'EndOffset': 139}, {'Score': 0.8335045576095581, 'Text': '요', 'BeginOffset': 146, 'EndOffset': 147}, {'Score': 0.8935062885284424, 'Text': '소아과 선생님', 'BeginOffset': 150, 'EndOffset': 157}, {'Score': 0.826140284538269, 'Text': '수유텀지', 'BeginOffset': 161, 'EndOffset': 165}, {'Score': 0.9898741245269775, 'Text': '뱃골', 'BeginOffset': 168, 'EndOffset': 170}, {'Score': 0.8444167375564575, 'Text': '한대서', 'BeginOffset': 174, 'EndOffset': 177}, {'Score': 0.9406722187995911, 'Text': '3시간', 'BeginOffset': 178, 'EndOffset': 181}, {'Score': 0.9989444613456726, 'Text': '애기', 'BeginOffset': 188, 'EndOffset': 190}, {'Score': 0.9856590628623962, 'Text': '목도', 'BeginOffset': 197, 'EndOffset': 199}, {'Score': 0.9953325390815735, 'Text': '잠도', 'BeginOffset': 202, 'EndOffset': 204}, {'Score': 0.9996926784515381, 'Text': '거', 'BeginOffset': 209, 'EndOffset': 210}, {'Score': 0.675707221031189, 'Text': '요', 'BeginOffset': 212, 'EndOffset': 213}, {'Score': 0.9629022479057312, 'Text': '2시간~2시간', 'BeginOffset': 216, 'EndOffset': 223}, {'Score': 0.9956804513931274, 'Text': '80', 'BeginOffset': 229, 'EndOffset': 231}, {'Score': 0.9759275913238525, 'Text': '니', 'BeginOffset': 245, 'EndOffset': 246}, {'Score': 0.7159518003463745, 'Text': '대로', 'BeginOffset': 250, 'EndOffset': 252}, {'Score': 0.7299360036849976, 'Text': '1000넘기', 'BeginOffset': 255, 'EndOffset': 261}, {'Score': 0.41925251483917236, 'Text': '도해', 'BeginOffset': 261, 'EndOffset': 263}, {'Score': 0.9339162111282349, 'Text': '뢰벤짠 쉬', 'BeginOffset': 265, 'EndOffset': 270}, {'Score': 0.9979425072669983, 'Text': '트림', 'BeginOffset': 277, 'EndOffset': 279}, {'Score': 0.9180685877799988, 'Text': '황금변 하루2번', 'BeginOffset': 298, 'EndOffset': 306}, {'Score': 0.9857826828956604, 'Text': '포만감', 'BeginOffset': 320, 'EndOffset': 323}, {'Score': 0.9991328120231628, 'Text': '거', 'BeginOffset': 326, 'EndOffset': 327}, {'Score': 0.9771589040756226, 'Text': '분유', 'BeginOffset': 332, 'EndOffset': 334}, {'Score': 0.9996036887168884, 'Text': '게', 'BeginOffset': 339, 'EndOffset': 340}, {'Score': 0.9994156360626221, 'Text': '시간', 'BeginOffset': 346, 'EndOffset': 348}, {'Score': 0.9833030104637146, 'Text': '수유량', 'BeginOffset': 356, 'EndOffset': 359}, {'Score': 0.5361218452453613, 'Text': '텀', 'BeginOffset': 362, 'EndOffset': 363}, {'Score': 0.9226491451263428, 'Text': '110', 'BeginOffset': 373, 'EndOffset': 376}, {'Score': 0.9901455044746399, 'Text': '고민', 'BeginOffset': 394, 'EndOffset': 396}], 'ResponseMetadata': {'RequestId': '43d5ecf6-dfc6-4351-8fc1-d4749e999791', 'HTTPStatusCode': 200, 'HTTPHeaders': {'x-amzn-requestid': '43d5ecf6-dfc6-4351-8fc1-d4749e999791', 'content-type': 'application/x-amz-json-1.1', 'content-length': '3824', 'date': 'Fri, 25 Feb 2022 05:40:19 GMT'}, 'RetryAttempts': 0}}\n"
     ]
    }
   ],
   "source": [
    "print(response)"
   ]
  },
  {
   "cell_type": "code",
   "execution_count": 21,
   "id": "128ea308",
   "metadata": {},
   "outputs": [],
   "source": [
    "response = client.detect_dominant_language(\n",
    "    Text=texts\n",
    ")"
   ]
  },
  {
   "cell_type": "code",
   "execution_count": 22,
   "id": "d503f247",
   "metadata": {},
   "outputs": [
    {
     "name": "stdout",
     "output_type": "stream",
     "text": [
      "{'Languages': [{'LanguageCode': 'ko', 'Score': 0.8097826242446899}], 'ResponseMetadata': {'RequestId': '8477139d-1492-4e63-8ad0-fad1f2fd1015', 'HTTPStatusCode': 200, 'HTTPHeaders': {'x-amzn-requestid': '8477139d-1492-4e63-8ad0-fad1f2fd1015', 'content-type': 'application/x-amz-json-1.1', 'content-length': '64', 'date': 'Fri, 25 Feb 2022 05:41:27 GMT'}, 'RetryAttempts': 0}}\n"
     ]
    }
   ],
   "source": [
    "print(response)"
   ]
  },
  {
   "cell_type": "code",
   "execution_count": 28,
   "id": "96f85d54",
   "metadata": {},
   "outputs": [
    {
     "ename": "ClientError",
     "evalue": "An error occurred (ValidationException) when calling the DetectEntities operation: Second colon partition not found",
     "output_type": "error",
     "traceback": [
      "\u001b[0;31m---------------------------------------------------------------------------\u001b[0m",
      "\u001b[0;31mClientError\u001b[0m                               Traceback (most recent call last)",
      "\u001b[0;32m<ipython-input-28-5fe249f639e9>\u001b[0m in \u001b[0;36m<module>\u001b[0;34m\u001b[0m\n\u001b[1;32m      2\u001b[0m     \u001b[0mText\u001b[0m\u001b[0;34m=\u001b[0m\u001b[0mtexts\u001b[0m\u001b[0;34m,\u001b[0m\u001b[0;34m\u001b[0m\u001b[0;34m\u001b[0m\u001b[0m\n\u001b[1;32m      3\u001b[0m     \u001b[0mLanguageCode\u001b[0m\u001b[0;34m=\u001b[0m\u001b[0;34m'ko'\u001b[0m\u001b[0;34m,\u001b[0m\u001b[0;34m\u001b[0m\u001b[0;34m\u001b[0m\u001b[0m\n\u001b[0;32m----> 4\u001b[0;31m     \u001b[0mEndpointArn\u001b[0m\u001b[0;34m=\u001b[0m\u001b[0;34m'arn:123'\u001b[0m\u001b[0;34m\u001b[0m\u001b[0;34m\u001b[0m\u001b[0m\n\u001b[0m\u001b[1;32m      5\u001b[0m )\n",
      "\u001b[0;32m~/anaconda3/envs/python3/lib/python3.6/site-packages/botocore/client.py\u001b[0m in \u001b[0;36m_api_call\u001b[0;34m(self, *args, **kwargs)\u001b[0m\n\u001b[1;32m    389\u001b[0m                     \"%s() only accepts keyword arguments.\" % py_operation_name)\n\u001b[1;32m    390\u001b[0m             \u001b[0;31m# The \"self\" in this scope is referring to the BaseClient.\u001b[0m\u001b[0;34m\u001b[0m\u001b[0;34m\u001b[0m\u001b[0;34m\u001b[0m\u001b[0m\n\u001b[0;32m--> 391\u001b[0;31m             \u001b[0;32mreturn\u001b[0m \u001b[0mself\u001b[0m\u001b[0;34m.\u001b[0m\u001b[0m_make_api_call\u001b[0m\u001b[0;34m(\u001b[0m\u001b[0moperation_name\u001b[0m\u001b[0;34m,\u001b[0m \u001b[0mkwargs\u001b[0m\u001b[0;34m)\u001b[0m\u001b[0;34m\u001b[0m\u001b[0;34m\u001b[0m\u001b[0m\n\u001b[0m\u001b[1;32m    392\u001b[0m \u001b[0;34m\u001b[0m\u001b[0m\n\u001b[1;32m    393\u001b[0m         \u001b[0m_api_call\u001b[0m\u001b[0;34m.\u001b[0m\u001b[0m__name__\u001b[0m \u001b[0;34m=\u001b[0m \u001b[0mstr\u001b[0m\u001b[0;34m(\u001b[0m\u001b[0mpy_operation_name\u001b[0m\u001b[0;34m)\u001b[0m\u001b[0;34m\u001b[0m\u001b[0;34m\u001b[0m\u001b[0m\n",
      "\u001b[0;32m~/anaconda3/envs/python3/lib/python3.6/site-packages/botocore/client.py\u001b[0m in \u001b[0;36m_make_api_call\u001b[0;34m(self, operation_name, api_params)\u001b[0m\n\u001b[1;32m    717\u001b[0m             \u001b[0merror_code\u001b[0m \u001b[0;34m=\u001b[0m \u001b[0mparsed_response\u001b[0m\u001b[0;34m.\u001b[0m\u001b[0mget\u001b[0m\u001b[0;34m(\u001b[0m\u001b[0;34m\"Error\"\u001b[0m\u001b[0;34m,\u001b[0m \u001b[0;34m{\u001b[0m\u001b[0;34m}\u001b[0m\u001b[0;34m)\u001b[0m\u001b[0;34m.\u001b[0m\u001b[0mget\u001b[0m\u001b[0;34m(\u001b[0m\u001b[0;34m\"Code\"\u001b[0m\u001b[0;34m)\u001b[0m\u001b[0;34m\u001b[0m\u001b[0;34m\u001b[0m\u001b[0m\n\u001b[1;32m    718\u001b[0m             \u001b[0merror_class\u001b[0m \u001b[0;34m=\u001b[0m \u001b[0mself\u001b[0m\u001b[0;34m.\u001b[0m\u001b[0mexceptions\u001b[0m\u001b[0;34m.\u001b[0m\u001b[0mfrom_code\u001b[0m\u001b[0;34m(\u001b[0m\u001b[0merror_code\u001b[0m\u001b[0;34m)\u001b[0m\u001b[0;34m\u001b[0m\u001b[0;34m\u001b[0m\u001b[0m\n\u001b[0;32m--> 719\u001b[0;31m             \u001b[0;32mraise\u001b[0m \u001b[0merror_class\u001b[0m\u001b[0;34m(\u001b[0m\u001b[0mparsed_response\u001b[0m\u001b[0;34m,\u001b[0m \u001b[0moperation_name\u001b[0m\u001b[0;34m)\u001b[0m\u001b[0;34m\u001b[0m\u001b[0;34m\u001b[0m\u001b[0m\n\u001b[0m\u001b[1;32m    720\u001b[0m         \u001b[0;32melse\u001b[0m\u001b[0;34m:\u001b[0m\u001b[0;34m\u001b[0m\u001b[0;34m\u001b[0m\u001b[0m\n\u001b[1;32m    721\u001b[0m             \u001b[0;32mreturn\u001b[0m \u001b[0mparsed_response\u001b[0m\u001b[0;34m\u001b[0m\u001b[0;34m\u001b[0m\u001b[0m\n",
      "\u001b[0;31mClientError\u001b[0m: An error occurred (ValidationException) when calling the DetectEntities operation: Second colon partition not found"
     ]
    }
   ],
   "source": [
    "response = client.detect_entities(\n",
    "    Text=texts,\n",
    "    LanguageCode='ko',\n",
    "    EndpointArn='arn:123'\n",
    ")"
   ]
  },
  {
   "cell_type": "code",
   "execution_count": null,
   "id": "d3fc6384",
   "metadata": {},
   "outputs": [],
   "source": []
  }
 ],
 "metadata": {
  "kernelspec": {
   "display_name": "conda_python3",
   "language": "python",
   "name": "conda_python3"
  },
  "language_info": {
   "codemirror_mode": {
    "name": "ipython",
    "version": 3
   },
   "file_extension": ".py",
   "mimetype": "text/x-python",
   "name": "python",
   "nbconvert_exporter": "python",
   "pygments_lexer": "ipython3",
   "version": "3.6.13"
  }
 },
 "nbformat": 4,
 "nbformat_minor": 5
}
